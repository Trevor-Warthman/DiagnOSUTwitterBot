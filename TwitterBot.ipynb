{
  "nbformat": 4,
  "nbformat_minor": 0,
  "metadata": {
    "colab": {
      "name": "TwitterBot.ipynb",
      "provenance": [],
      "collapsed_sections": []
    },
    "kernelspec": {
      "name": "python3",
      "display_name": "Python 3"
    }
  },
  "cells": [
    {
      "cell_type": "markdown",
      "metadata": {
        "id": "URqWFjoF3Kkp"
      },
      "source": [
        "***Resources:***\n",
        "- https://dototot.com/how-to-write-a-twitter-bot-with-python-and-tweepy/\n",
        "- https://dototot.com/reply-tweets-python-tweepy-twitter-bot/\n",
        "- https://dev.twitter.com\n",
        "\n"
      ]
    },
    {
      "cell_type": "code",
      "metadata": {
        "colab": {
          "base_uri": "https://localhost:8080/"
        },
        "id": "rit_5TeIzeow",
        "outputId": "dd754870-aed8-4107-987b-9b37f2f7a5a8"
      },
      "source": [
        "!pip install tweepy\n",
        "!pip install requests\n",
        "import tweepy, time, sys, requests, json"
      ],
      "execution_count": null,
      "outputs": [
        {
          "output_type": "stream",
          "text": [
            "Requirement already satisfied: tweepy in /usr/local/lib/python3.6/dist-packages (3.6.0)\n",
            "Requirement already satisfied: requests>=2.11.1 in /usr/local/lib/python3.6/dist-packages (from tweepy) (2.23.0)\n",
            "Requirement already satisfied: requests-oauthlib>=0.7.0 in /usr/local/lib/python3.6/dist-packages (from tweepy) (1.3.0)\n",
            "Requirement already satisfied: PySocks>=1.5.7 in /usr/local/lib/python3.6/dist-packages (from tweepy) (1.7.1)\n",
            "Requirement already satisfied: six>=1.10.0 in /usr/local/lib/python3.6/dist-packages (from tweepy) (1.15.0)\n",
            "Requirement already satisfied: certifi>=2017.4.17 in /usr/local/lib/python3.6/dist-packages (from requests>=2.11.1->tweepy) (2020.11.8)\n",
            "Requirement already satisfied: urllib3!=1.25.0,!=1.25.1,<1.26,>=1.21.1 in /usr/local/lib/python3.6/dist-packages (from requests>=2.11.1->tweepy) (1.24.3)\n",
            "Requirement already satisfied: chardet<4,>=3.0.2 in /usr/local/lib/python3.6/dist-packages (from requests>=2.11.1->tweepy) (3.0.4)\n",
            "Requirement already satisfied: idna<3,>=2.5 in /usr/local/lib/python3.6/dist-packages (from requests>=2.11.1->tweepy) (2.10)\n",
            "Requirement already satisfied: oauthlib>=3.0.0 in /usr/local/lib/python3.6/dist-packages (from requests-oauthlib>=0.7.0->tweepy) (3.1.0)\n",
            "Requirement already satisfied: requests in /usr/local/lib/python3.6/dist-packages (2.23.0)\n",
            "Requirement already satisfied: chardet<4,>=3.0.2 in /usr/local/lib/python3.6/dist-packages (from requests) (3.0.4)\n",
            "Requirement already satisfied: idna<3,>=2.5 in /usr/local/lib/python3.6/dist-packages (from requests) (2.10)\n",
            "Requirement already satisfied: urllib3!=1.25.0,!=1.25.1,<1.26,>=1.21.1 in /usr/local/lib/python3.6/dist-packages (from requests) (1.24.3)\n",
            "Requirement already satisfied: certifi>=2017.4.17 in /usr/local/lib/python3.6/dist-packages (from requests) (2020.11.8)\n"
          ],
          "name": "stdout"
        }
      ]
    },
    {
      "cell_type": "markdown",
      "metadata": {
        "id": "V1lhI-Exzrwa"
      },
      "source": [
        "***Get Twitter App Info***\n",
        "- Authorization \n",
        "- Connect with the API\n",
        "\n",
        "API Key\n",
        "- m3u7TiHyKFF7qTMp4U6lhRsGW\n",
        "\n",
        "API Secret Key\n",
        "- XFrIi7fjm7yyHIcrsqxo5DcLCrq75VqY4F6MtEDVnfG1ZWLhDn\n",
        "\n",
        "Bearer Token\n",
        "- AAAAAAAAAAAAAAAAAAAAAAZTKAEAAAAAVXFcTkLWo%2F5VOSLtkr0PCKlroAs%3DgmFZXlQntyMOy8LPxsQ3tLxH1I4fPC1hFI0FnAQiqoKazVj82W"
      ]
    },
    {
      "cell_type": "code",
      "metadata": {
        "id": "GJe7BmptynDN"
      },
      "source": [
        "#TODO: visit https://dev.twitter.com to create an application and get your keys\n",
        "keys = dict(\n",
        "\tconsumer_key =          'm3u7TiHyKFF7qTMp4U6lhRsGW',\n",
        "\tconsumer_secret =       'XFrIi7fjm7yyHIcrsqxo5DcLCrq75VqY4F6MtEDVnfG1ZWLhDn',\n",
        "\taccess_token =          '1328837627898900482-oszm8Rr1jfEjRrVoHvqtGQMGc2hOFs',\n",
        "\taccess_token_secret =   'z6gfXwbwctGrHfOipC7NkGIOZcAPOl0HfxdlXEf2kWwSv',\n",
        ")\n",
        "\n",
        "\n"
      ],
      "execution_count": null,
      "outputs": []
    },
    {
      "cell_type": "code",
      "metadata": {
        "id": "JrwJzBMQz1Gf"
      },
      "source": [
        "CONSUMER_KEY = keys['consumer_key']\n",
        "CONSUMER_SECRET = keys['consumer_secret']\n",
        "ACCESS_TOKEN = keys['access_token']\n",
        "ACCESS_TOKEN_SECRET = keys['access_token_secret']\n",
        "\n",
        "auth = tweepy.OAuthHandler(CONSUMER_KEY, CONSUMER_SECRET)\n",
        "auth.set_access_token(ACCESS_TOKEN, ACCESS_TOKEN_SECRET)\n",
        "api = tweepy.API(auth)"
      ],
      "execution_count": null,
      "outputs": []
    },
    {
      "cell_type": "code",
      "metadata": {
        "id": "M8gkP4Pilaao"
      },
      "source": [
        "def create_session():\n",
        "  r = requests.post('https://api.us-south.assistant.watson.cloud.ibm.com/instances/abadaf22-9195-425a-aa9a-3e86f1cb4a28/v2/assistants/cca390d2-78f4-442c-b2e4-6275fe74ed82/sessions?version=2020-04-01', auth=('apikey', '2Vaj7UT5DHz6Kzco18u23jrEZEpry_79Xk7Gz3TF1bpA'))\n",
        "  return r.json()['session_id']"
      ],
      "execution_count": null,
      "outputs": []
    },
    {
      "cell_type": "code",
      "metadata": {
        "id": "O8Ki1B_F0wGE"
      },
      "source": [
        "def WatsonAnalyze(sn, ogmsg):\n",
        "  #Set up Watson account\n",
        "  session_id = create_session()\n",
        "  entities = {'contactWithCovid': 0, 'CoronavirusSymptom': 0, 'mentalHealthSymptom': 0, 'nonCovidSymptom': 0, 'healthEmergancy': 0}\n",
        "\n",
        "  #Try for health emergancy\n",
        "  ogresp = send_message(ogmsg, session_id)\n",
        "  if ogresp['intents'] == \"healthEmergancy\":\n",
        "    #Health Emergency\n",
        "    return \"Hello {},\".format(sn) + ogresp\n",
        "  #Else do nothing and move on\n",
        "\n",
        "  #Iterate through until no words left\n",
        "  words = ogmsg.split(\" \")\n",
        "  while len(words) > 0:\n",
        "    count = 1\n",
        "    unhappy = True\n",
        "    while unhappy:\n",
        "      chunk = iterateOverWords(words, count)\n",
        "      response = send_message(chunk, session_id)['entities']\n",
        "      for entity in response:\n",
        "        entities[entity['entity']] += 1\n",
        "\n",
        "      if len(response) > 0 or count > 9 or count + 1 > len(words):\n",
        "        unhappy = False #move on \n",
        "        words = words[count:]\n",
        "        \n",
        "      else:\n",
        "      #Else we don't move on and increase count\n",
        "        count = count + 1\n",
        "    \n",
        "  #Send \"EOS\" NEVERMIND. Don't have to do that now that counters are in python\n",
        "  #msgDict = send_message(\"EOS\", session_id)\n",
        "  msg = \"\"\n",
        "  #Severe Warning\n",
        "  if(entities['CoronavirusSymptom'] > 3 or entities['contactWithCovid'] > 1):\n",
        "    msg = \"It is extremely likely that you have contracted COVID-19. Call your doctor immediately, distance from friends and family, and do not engage in contact with others for any reason.\"\n",
        "  #Advise Coution\n",
        "  elif(entities['CoronavirusSymptom'] > 1 or entities['contactWithCovid'] == 1):\n",
        "    msg = \"It seems like you may have contracted COVID-19. Though we can't say for sure, it is very important to be cautious and to distance from friends and family. Please get a test as soon as possible.\"\n",
        "  #Potential\n",
        "  elif(entities['CoronavirusSymptom'] == 1):\n",
        "    msg = \"We see some signs in your tweet that you may have COVID-19. Even with minor symptoms, it is important to wear a mask and limit your contact with others, and get a test as soon as possible.\"\n",
        "  #Mental Health\n",
        "  elif(entities['mentalHealthSymptom'] > 0):\n",
        "    msg = \"Though we don't see any evidence of COVID-19 in this tweet, you've listed signs of mental health issues. Please set up an online appointment with a mental health specialist. If you experience a mental health emergency, call 1-800-273-8255.\"\n",
        "  #NonCovidSymptoms are prevelant\n",
        "  elif(entities['nonCovidSymptom'] > 3):\n",
        "    msg = \"Looks like you're having a lot of medical symptoms that are unrelated to COVID-19! Please call a doctor immediatly to discuss your symptoms.\"\n",
        "  #A few NonCovidSymptoms\n",
        "  elif(entities['nonCovidSymptom'] > 0):\n",
        "    msg = \"Looks like you mentioned a few medical symptoms, however these are not signs of COVID-19. We reccomend speaking to a doctor, especially if your symptoms worsen.\"\n",
        "  #No Evidence\n",
        "  elif(entities['CoronavirusSymptom'] == 0 and entities['contactWithCovid'] == 0 and entities['mentalHealthSymptom'] == 0):\n",
        "    msg = \"We don't see any evidence that you have contracted COVID-19 from your tweet! Even so, it is very common to be an asymptomatic carrier, so it is still important to wear a mask and social distance.\"\n",
        "  #Invalid\n",
        "  else:\n",
        "    msg = \"We had some trouble reading your message, try rephrasing so that we can get you more conclusive results!\"\n",
        "\n",
        "  return \"Hello @{},\".format(sn) + msg"
      ],
      "execution_count": null,
      "outputs": []
    },
    {
      "cell_type": "code",
      "metadata": {
        "id": "dJGWMRKWg77i"
      },
      "source": [
        "def send_message(text, session_id):\n",
        "  print('message to watson = {}'.format(text))\n",
        "  data = json.dumps({\"input\": {\"text\": \"{}\".format(text)}})\n",
        "  r = requests.post('https://api.us-south.assistant.watson.cloud.ibm.com/instances/abadaf22-9195-425a-aa9a-3e86f1cb4a28/v2/assistants/cca390d2-78f4-442c-b2e4-6275fe74ed82/sessions/{}/message?version=2020-04-01'.format(session_id), data=data, headers={'Content-Type': 'application/json'}, auth=('apikey', '2Vaj7UT5DHz6Kzco18u23jrEZEpry_79Xk7Gz3TF1bpA'))\n",
        "  \n",
        "  print('watson response json = {}'.format(r.json()))\n",
        "\n",
        "  return r.json()['output']"
      ],
      "execution_count": null,
      "outputs": []
    },
    {
      "cell_type": "code",
      "metadata": {
        "id": "0EJjI4kckLbR"
      },
      "source": [
        " #Iterate over split words\n",
        " #Words is the words \n",
        " #index is the 1-10 number of words we're trying in a chunk. after 10 we give up and delete the word\n",
        " #Returns a string separated by whitespace of the first (index) words in the words array\n",
        "def iterateOverWords(words, index):\n",
        "  arr = []\n",
        "  for i in range(0,index):\n",
        "    arr.append(words[i])\n",
        "  return \" \".join(arr)\n"
      ],
      "execution_count": null,
      "outputs": []
    },
    {
      "cell_type": "code",
      "metadata": {
        "colab": {
          "base_uri": "https://localhost:8080/",
          "height": 1000
        },
        "id": "2-odTfAT0iTk",
        "outputId": "67b9c5e1-a69f-4916-e403-e75ecad53d4b"
      },
      "source": [
        "# get a list of the tweets that @ our bot's handle\n",
        "twts = api.search(q=\"@diagnosu\")\n",
        "\n",
        "for status in twts:\n",
        "  print('status = {}'.format(status))\n",
        "  # get screen name of person that @DiagnOSU\n",
        "  sn = status.user.screen_name\n",
        "  if sn != 'DiagnOSU':\n",
        "    ogmsg = status.text\n",
        "    print('screen name = {}'.format(sn))\n",
        "    print('message = {}'.format(ogmsg))\n",
        "    watson_response = WatsonAnalyze(sn, ogmsg)\n",
        "    print('watson resp = {}'.format(watson_response))\n",
        "    #m = WatsonAnalyze(sn, ogmsg)\n",
        "    status = api.update_status(watson_response, in_reply_to_status_id=status.id)"
      ],
      "execution_count": null,
      "outputs": [
        {
          "output_type": "stream",
          "text": [
            "status = Status(_api=<tweepy.api.API object at 0x7f840ad0dac8>, _json={'created_at': 'Thu Dec 03 22:52:37 +0000 2020', 'id': 1334631656645419009, 'id_str': '1334631656645419009', 'text': \"@DiagnOSU I'm so hungry\", 'truncated': False, 'entities': {'hashtags': [], 'symbols': [], 'user_mentions': [{'screen_name': 'DiagnOSU', 'name': 'Diagnosu Team', 'id': 1328837627898900482, 'id_str': '1328837627898900482', 'indices': [0, 9]}], 'urls': []}, 'metadata': {'iso_language_code': 'en', 'result_type': 'recent'}, 'source': '<a href=\"http://twitter.com/download/iphone\" rel=\"nofollow\">Twitter for iPhone</a>', 'in_reply_to_status_id': None, 'in_reply_to_status_id_str': None, 'in_reply_to_user_id': 1328837627898900482, 'in_reply_to_user_id_str': '1328837627898900482', 'in_reply_to_screen_name': 'DiagnOSU', 'user': {'id': 448629667, 'id_str': '448629667', 'name': 'Anna', 'screen_name': 'annaeamrhein', 'location': 'The Ohio State University', 'description': '', 'url': None, 'entities': {'description': {'urls': []}}, 'protected': False, 'followers_count': 317, 'friends_count': 358, 'listed_count': 0, 'created_at': 'Wed Dec 28 06:13:40 +0000 2011', 'favourites_count': 7650, 'utc_offset': None, 'time_zone': None, 'geo_enabled': True, 'verified': False, 'statuses_count': 710, 'lang': None, 'contributors_enabled': False, 'is_translator': False, 'is_translation_enabled': False, 'profile_background_color': '642D8B', 'profile_background_image_url': 'http://abs.twimg.com/images/themes/theme10/bg.gif', 'profile_background_image_url_https': 'https://abs.twimg.com/images/themes/theme10/bg.gif', 'profile_background_tile': True, 'profile_image_url': 'http://pbs.twimg.com/profile_images/1209938719370821634/9K-jANU1_normal.jpg', 'profile_image_url_https': 'https://pbs.twimg.com/profile_images/1209938719370821634/9K-jANU1_normal.jpg', 'profile_banner_url': 'https://pbs.twimg.com/profile_banners/448629667/1550340540', 'profile_link_color': 'FF0000', 'profile_sidebar_border_color': '65B0DA', 'profile_sidebar_fill_color': '7AC3EE', 'profile_text_color': '3D1957', 'profile_use_background_image': True, 'has_extended_profile': True, 'default_profile': False, 'default_profile_image': False, 'following': False, 'follow_request_sent': False, 'notifications': False, 'translator_type': 'none'}, 'geo': None, 'coordinates': None, 'place': None, 'contributors': None, 'is_quote_status': False, 'retweet_count': 0, 'favorite_count': 0, 'favorited': False, 'retweeted': False, 'lang': 'en'}, created_at=datetime.datetime(2020, 12, 3, 22, 52, 37), id=1334631656645419009, id_str='1334631656645419009', text=\"@DiagnOSU I'm so hungry\", truncated=False, entities={'hashtags': [], 'symbols': [], 'user_mentions': [{'screen_name': 'DiagnOSU', 'name': 'Diagnosu Team', 'id': 1328837627898900482, 'id_str': '1328837627898900482', 'indices': [0, 9]}], 'urls': []}, metadata={'iso_language_code': 'en', 'result_type': 'recent'}, source='Twitter for iPhone', source_url='http://twitter.com/download/iphone', in_reply_to_status_id=None, in_reply_to_status_id_str=None, in_reply_to_user_id=1328837627898900482, in_reply_to_user_id_str='1328837627898900482', in_reply_to_screen_name='DiagnOSU', author=User(_api=<tweepy.api.API object at 0x7f840ad0dac8>, _json={'id': 448629667, 'id_str': '448629667', 'name': 'Anna', 'screen_name': 'annaeamrhein', 'location': 'The Ohio State University', 'description': '', 'url': None, 'entities': {'description': {'urls': []}}, 'protected': False, 'followers_count': 317, 'friends_count': 358, 'listed_count': 0, 'created_at': 'Wed Dec 28 06:13:40 +0000 2011', 'favourites_count': 7650, 'utc_offset': None, 'time_zone': None, 'geo_enabled': True, 'verified': False, 'statuses_count': 710, 'lang': None, 'contributors_enabled': False, 'is_translator': False, 'is_translation_enabled': False, 'profile_background_color': '642D8B', 'profile_background_image_url': 'http://abs.twimg.com/images/themes/theme10/bg.gif', 'profile_background_image_url_https': 'https://abs.twimg.com/images/themes/theme10/bg.gif', 'profile_background_tile': True, 'profile_image_url': 'http://pbs.twimg.com/profile_images/1209938719370821634/9K-jANU1_normal.jpg', 'profile_image_url_https': 'https://pbs.twimg.com/profile_images/1209938719370821634/9K-jANU1_normal.jpg', 'profile_banner_url': 'https://pbs.twimg.com/profile_banners/448629667/1550340540', 'profile_link_color': 'FF0000', 'profile_sidebar_border_color': '65B0DA', 'profile_sidebar_fill_color': '7AC3EE', 'profile_text_color': '3D1957', 'profile_use_background_image': True, 'has_extended_profile': True, 'default_profile': False, 'default_profile_image': False, 'following': False, 'follow_request_sent': False, 'notifications': False, 'translator_type': 'none'}, id=448629667, id_str='448629667', name='Anna', screen_name='annaeamrhein', location='The Ohio State University', description='', url=None, entities={'description': {'urls': []}}, protected=False, followers_count=317, friends_count=358, listed_count=0, created_at=datetime.datetime(2011, 12, 28, 6, 13, 40), favourites_count=7650, utc_offset=None, time_zone=None, geo_enabled=True, verified=False, statuses_count=710, lang=None, contributors_enabled=False, is_translator=False, is_translation_enabled=False, profile_background_color='642D8B', profile_background_image_url='http://abs.twimg.com/images/themes/theme10/bg.gif', profile_background_image_url_https='https://abs.twimg.com/images/themes/theme10/bg.gif', profile_background_tile=True, profile_image_url='http://pbs.twimg.com/profile_images/1209938719370821634/9K-jANU1_normal.jpg', profile_image_url_https='https://pbs.twimg.com/profile_images/1209938719370821634/9K-jANU1_normal.jpg', profile_banner_url='https://pbs.twimg.com/profile_banners/448629667/1550340540', profile_link_color='FF0000', profile_sidebar_border_color='65B0DA', profile_sidebar_fill_color='7AC3EE', profile_text_color='3D1957', profile_use_background_image=True, has_extended_profile=True, default_profile=False, default_profile_image=False, following=False, follow_request_sent=False, notifications=False, translator_type='none'), user=User(_api=<tweepy.api.API object at 0x7f840ad0dac8>, _json={'id': 448629667, 'id_str': '448629667', 'name': 'Anna', 'screen_name': 'annaeamrhein', 'location': 'The Ohio State University', 'description': '', 'url': None, 'entities': {'description': {'urls': []}}, 'protected': False, 'followers_count': 317, 'friends_count': 358, 'listed_count': 0, 'created_at': 'Wed Dec 28 06:13:40 +0000 2011', 'favourites_count': 7650, 'utc_offset': None, 'time_zone': None, 'geo_enabled': True, 'verified': False, 'statuses_count': 710, 'lang': None, 'contributors_enabled': False, 'is_translator': False, 'is_translation_enabled': False, 'profile_background_color': '642D8B', 'profile_background_image_url': 'http://abs.twimg.com/images/themes/theme10/bg.gif', 'profile_background_image_url_https': 'https://abs.twimg.com/images/themes/theme10/bg.gif', 'profile_background_tile': True, 'profile_image_url': 'http://pbs.twimg.com/profile_images/1209938719370821634/9K-jANU1_normal.jpg', 'profile_image_url_https': 'https://pbs.twimg.com/profile_images/1209938719370821634/9K-jANU1_normal.jpg', 'profile_banner_url': 'https://pbs.twimg.com/profile_banners/448629667/1550340540', 'profile_link_color': 'FF0000', 'profile_sidebar_border_color': '65B0DA', 'profile_sidebar_fill_color': '7AC3EE', 'profile_text_color': '3D1957', 'profile_use_background_image': True, 'has_extended_profile': True, 'default_profile': False, 'default_profile_image': False, 'following': False, 'follow_request_sent': False, 'notifications': False, 'translator_type': 'none'}, id=448629667, id_str='448629667', name='Anna', screen_name='annaeamrhein', location='The Ohio State University', description='', url=None, entities={'description': {'urls': []}}, protected=False, followers_count=317, friends_count=358, listed_count=0, created_at=datetime.datetime(2011, 12, 28, 6, 13, 40), favourites_count=7650, utc_offset=None, time_zone=None, geo_enabled=True, verified=False, statuses_count=710, lang=None, contributors_enabled=False, is_translator=False, is_translation_enabled=False, profile_background_color='642D8B', profile_background_image_url='http://abs.twimg.com/images/themes/theme10/bg.gif', profile_background_image_url_https='https://abs.twimg.com/images/themes/theme10/bg.gif', profile_background_tile=True, profile_image_url='http://pbs.twimg.com/profile_images/1209938719370821634/9K-jANU1_normal.jpg', profile_image_url_https='https://pbs.twimg.com/profile_images/1209938719370821634/9K-jANU1_normal.jpg', profile_banner_url='https://pbs.twimg.com/profile_banners/448629667/1550340540', profile_link_color='FF0000', profile_sidebar_border_color='65B0DA', profile_sidebar_fill_color='7AC3EE', profile_text_color='3D1957', profile_use_background_image=True, has_extended_profile=True, default_profile=False, default_profile_image=False, following=False, follow_request_sent=False, notifications=False, translator_type='none'), geo=None, coordinates=None, place=None, contributors=None, is_quote_status=False, retweet_count=0, favorite_count=0, favorited=False, retweeted=False, lang='en')\n",
            "screen name = annaeamrhein\n",
            "message = @DiagnOSU I'm so hungry\n",
            "message to watson = @DiagnOSU I'm so hungry\n",
            "watson response json = {'output': {'intents': [{'intent': 'medical_symptoms_intents', 'confidence': 0.2850107684931942}], 'entities': [], 'generic': [{'response_type': 'suggestion', 'title': 'Did you mean:', 'suggestions': [{'label': 'Non COVID-19 symptoms', 'value': {'input': {'suggestion_id': 'd:7180d690-f649-4560-b337-9d82ef21c9f0', 'text': \"@DiagnOSU I'm so hungry\", 'intents': [{'intent': 'medical_symptoms_intents', 'confidence': 0.2850107684931942}], 'entities': []}}, 'output': {'generic': []}, 'source_dialog_node': 'root', 'dialog_node': 'node_1_1602729744547', 'internal': {'propensity': 1}}, {'label': 'Irrelevant Input', 'value': {'input': {'suggestion_id': 'd:de5e13ea-11b3-493c-a0ae-31cab5f3cf60', 'text': \"@DiagnOSU I'm so hungry\", 'intents': [], 'entities': []}}, 'output': {'generic': []}, 'source_dialog_node': 'root', 'dialog_node': 'node_1_1606873093178', 'internal': {'propensity': 0.9999958284900656}}, {'label': 'None of the above', 'value': {'input': {'suggestion_id': 'd:c224f749-868a-4ad0-8221-83f13ecf308d', 'text': \"@DiagnOSU I'm so hungry\", 'intents': [], 'entities': []}}, 'output': {'generic': []}, 'source_dialog_node': 'root', 'internal': {'propensity': 1}}]}]}}\n",
            "message to watson = @DiagnOSU\n",
            "watson response json = {'output': {'intents': [], 'entities': [], 'generic': []}}\n",
            "message to watson = @DiagnOSU I'm\n",
            "watson response json = {'output': {'intents': [{'intent': 'medical_symptoms_intents', 'confidence': 0.6410070419311524}], 'entities': [], 'generic': [{'response_type': 'suggestion', 'title': 'Did you mean:', 'suggestions': [{'label': 'Non COVID-19 symptoms', 'value': {'input': {'suggestion_id': 'd:c1deb8ca-6578-4c50-b438-cbfb737104ea', 'text': \"@DiagnOSU I'm\", 'intents': [{'intent': 'medical_symptoms_intents', 'confidence': 0.6410070419311524}], 'entities': []}}, 'output': {'generic': []}, 'source_dialog_node': 'root', 'dialog_node': 'node_1_1602729744547', 'internal': {'propensity': 0.9993713345272139}}, {'label': 'Irrelevant Input', 'value': {'input': {'suggestion_id': 'd:0b7abfc3-14cb-46b5-9006-575a1cdcc3a4', 'text': \"@DiagnOSU I'm\", 'intents': [{'intent': 'no_medical_symptoms', 'confidence': 0.3062736988067627}], 'entities': []}}, 'output': {'generic': []}, 'source_dialog_node': 'root', 'dialog_node': 'node_1_1606873093178', 'internal': {'propensity': 0.20579218443766145}}, {'label': 'Ending', 'value': {'input': {'suggestion_id': 'd:0a493ba7-9eb1-46a5-b7d6-3c2b05266ff1', 'text': \"@DiagnOSU I'm\", 'intents': [{'intent': 'EndOfStream', 'confidence': 0.3659396290779114}], 'entities': []}}, 'output': {'generic': []}, 'source_dialog_node': 'root', 'dialog_node': 'node_4_1600810824990', 'internal': {'propensity': 0.30419445089605274}}, {'label': 'None of the above', 'value': {'input': {'suggestion_id': 'd:c3ad1480-2dc7-428d-ab9d-656c69663ebe', 'text': \"@DiagnOSU I'm\", 'intents': [], 'entities': []}}, 'output': {'generic': []}, 'source_dialog_node': 'root', 'internal': {'propensity': 1}}]}]}}\n",
            "message to watson = @DiagnOSU I'm so\n",
            "watson response json = {'output': {'intents': [{'intent': 'medical_symptoms_intents', 'confidence': 0.6321807384490967}], 'entities': [], 'generic': []}}\n",
            "message to watson = @DiagnOSU I'm so hungry\n",
            "watson response json = {'output': {'intents': [{'intent': 'medical_symptoms_intents', 'confidence': 0.2850107684931942}], 'entities': [], 'generic': [{'response_type': 'suggestion', 'title': 'Did you mean:', 'suggestions': [{'label': 'Non COVID-19 symptoms', 'value': {'input': {'suggestion_id': 'd:9663551b-1d5a-468f-8a9c-a8474566751f', 'text': \"@DiagnOSU I'm so hungry\", 'intents': [{'intent': 'medical_symptoms_intents', 'confidence': 0.2850107684931942}], 'entities': []}}, 'output': {'generic': []}, 'source_dialog_node': 'root', 'dialog_node': 'node_1_1602729744547', 'internal': {'propensity': 1}}, {'label': 'Irrelevant Input', 'value': {'input': {'suggestion_id': 'd:a380a853-8bd9-4441-b764-6e52130fa8ad', 'text': \"@DiagnOSU I'm so hungry\", 'intents': [], 'entities': []}}, 'output': {'generic': []}, 'source_dialog_node': 'root', 'dialog_node': 'node_1_1606873093178', 'internal': {'propensity': 0.9999958284900656}}, {'label': 'None of the above', 'value': {'input': {'suggestion_id': 'd:f4ab7b2e-f911-41ef-827c-d4d971ef33e9', 'text': \"@DiagnOSU I'm so hungry\", 'intents': [], 'entities': []}}, 'output': {'generic': []}, 'source_dialog_node': 'root', 'internal': {'propensity': 1}}]}]}}\n",
            "watson resp = Hello @annaeamrhein,We don't see any evidence that you have contracted COVID-19 from your tweet! Even so, it is very common to be an asymptomatic carrier, so it is still important to wear a mask and social distance.\n",
            "status = Status(_api=<tweepy.api.API object at 0x7f840ad0dac8>, _json={'created_at': 'Thu Dec 03 22:51:26 +0000 2020', 'id': 1334631358354878470, 'id_str': '1334631358354878470', 'text': 'I have coughing, sore throat, and headache @DiagnOSU', 'truncated': False, 'entities': {'hashtags': [], 'symbols': [], 'user_mentions': [{'screen_name': 'DiagnOSU', 'name': 'Diagnosu Team', 'id': 1328837627898900482, 'id_str': '1328837627898900482', 'indices': [43, 52]}], 'urls': []}, 'metadata': {'iso_language_code': 'en', 'result_type': 'recent'}, 'source': '<a href=\"https://mobile.twitter.com\" rel=\"nofollow\">Twitter Web App</a>', 'in_reply_to_status_id': None, 'in_reply_to_status_id_str': None, 'in_reply_to_user_id': None, 'in_reply_to_user_id_str': None, 'in_reply_to_screen_name': None, 'user': {'id': 767549968643162112, 'id_str': '767549968643162112', 'name': 'coyote bird', 'screen_name': 'CoyoteAndBird1', 'location': '', 'description': '', 'url': None, 'entities': {'description': {'urls': []}}, 'protected': False, 'followers_count': 8, 'friends_count': 39, 'listed_count': 0, 'created_at': 'Mon Aug 22 02:32:27 +0000 2016', 'favourites_count': 42, 'utc_offset': None, 'time_zone': None, 'geo_enabled': False, 'verified': False, 'statuses_count': 75, 'lang': None, 'contributors_enabled': False, 'is_translator': False, 'is_translation_enabled': False, 'profile_background_color': 'F5F8FA', 'profile_background_image_url': None, 'profile_background_image_url_https': None, 'profile_background_tile': False, 'profile_image_url': 'http://pbs.twimg.com/profile_images/767550586837409792/Nfd18-Es_normal.jpg', 'profile_image_url_https': 'https://pbs.twimg.com/profile_images/767550586837409792/Nfd18-Es_normal.jpg', 'profile_link_color': '1DA1F2', 'profile_sidebar_border_color': 'C0DEED', 'profile_sidebar_fill_color': 'DDEEF6', 'profile_text_color': '333333', 'profile_use_background_image': True, 'has_extended_profile': False, 'default_profile': True, 'default_profile_image': False, 'following': False, 'follow_request_sent': False, 'notifications': False, 'translator_type': 'none'}, 'geo': None, 'coordinates': None, 'place': None, 'contributors': None, 'is_quote_status': False, 'retweet_count': 0, 'favorite_count': 0, 'favorited': False, 'retweeted': False, 'lang': 'en'}, created_at=datetime.datetime(2020, 12, 3, 22, 51, 26), id=1334631358354878470, id_str='1334631358354878470', text='I have coughing, sore throat, and headache @DiagnOSU', truncated=False, entities={'hashtags': [], 'symbols': [], 'user_mentions': [{'screen_name': 'DiagnOSU', 'name': 'Diagnosu Team', 'id': 1328837627898900482, 'id_str': '1328837627898900482', 'indices': [43, 52]}], 'urls': []}, metadata={'iso_language_code': 'en', 'result_type': 'recent'}, source='Twitter Web App', source_url='https://mobile.twitter.com', in_reply_to_status_id=None, in_reply_to_status_id_str=None, in_reply_to_user_id=None, in_reply_to_user_id_str=None, in_reply_to_screen_name=None, author=User(_api=<tweepy.api.API object at 0x7f840ad0dac8>, _json={'id': 767549968643162112, 'id_str': '767549968643162112', 'name': 'coyote bird', 'screen_name': 'CoyoteAndBird1', 'location': '', 'description': '', 'url': None, 'entities': {'description': {'urls': []}}, 'protected': False, 'followers_count': 8, 'friends_count': 39, 'listed_count': 0, 'created_at': 'Mon Aug 22 02:32:27 +0000 2016', 'favourites_count': 42, 'utc_offset': None, 'time_zone': None, 'geo_enabled': False, 'verified': False, 'statuses_count': 75, 'lang': None, 'contributors_enabled': False, 'is_translator': False, 'is_translation_enabled': False, 'profile_background_color': 'F5F8FA', 'profile_background_image_url': None, 'profile_background_image_url_https': None, 'profile_background_tile': False, 'profile_image_url': 'http://pbs.twimg.com/profile_images/767550586837409792/Nfd18-Es_normal.jpg', 'profile_image_url_https': 'https://pbs.twimg.com/profile_images/767550586837409792/Nfd18-Es_normal.jpg', 'profile_link_color': '1DA1F2', 'profile_sidebar_border_color': 'C0DEED', 'profile_sidebar_fill_color': 'DDEEF6', 'profile_text_color': '333333', 'profile_use_background_image': True, 'has_extended_profile': False, 'default_profile': True, 'default_profile_image': False, 'following': False, 'follow_request_sent': False, 'notifications': False, 'translator_type': 'none'}, id=767549968643162112, id_str='767549968643162112', name='coyote bird', screen_name='CoyoteAndBird1', location='', description='', url=None, entities={'description': {'urls': []}}, protected=False, followers_count=8, friends_count=39, listed_count=0, created_at=datetime.datetime(2016, 8, 22, 2, 32, 27), favourites_count=42, utc_offset=None, time_zone=None, geo_enabled=False, verified=False, statuses_count=75, lang=None, contributors_enabled=False, is_translator=False, is_translation_enabled=False, profile_background_color='F5F8FA', profile_background_image_url=None, profile_background_image_url_https=None, profile_background_tile=False, profile_image_url='http://pbs.twimg.com/profile_images/767550586837409792/Nfd18-Es_normal.jpg', profile_image_url_https='https://pbs.twimg.com/profile_images/767550586837409792/Nfd18-Es_normal.jpg', profile_link_color='1DA1F2', profile_sidebar_border_color='C0DEED', profile_sidebar_fill_color='DDEEF6', profile_text_color='333333', profile_use_background_image=True, has_extended_profile=False, default_profile=True, default_profile_image=False, following=False, follow_request_sent=False, notifications=False, translator_type='none'), user=User(_api=<tweepy.api.API object at 0x7f840ad0dac8>, _json={'id': 767549968643162112, 'id_str': '767549968643162112', 'name': 'coyote bird', 'screen_name': 'CoyoteAndBird1', 'location': '', 'description': '', 'url': None, 'entities': {'description': {'urls': []}}, 'protected': False, 'followers_count': 8, 'friends_count': 39, 'listed_count': 0, 'created_at': 'Mon Aug 22 02:32:27 +0000 2016', 'favourites_count': 42, 'utc_offset': None, 'time_zone': None, 'geo_enabled': False, 'verified': False, 'statuses_count': 75, 'lang': None, 'contributors_enabled': False, 'is_translator': False, 'is_translation_enabled': False, 'profile_background_color': 'F5F8FA', 'profile_background_image_url': None, 'profile_background_image_url_https': None, 'profile_background_tile': False, 'profile_image_url': 'http://pbs.twimg.com/profile_images/767550586837409792/Nfd18-Es_normal.jpg', 'profile_image_url_https': 'https://pbs.twimg.com/profile_images/767550586837409792/Nfd18-Es_normal.jpg', 'profile_link_color': '1DA1F2', 'profile_sidebar_border_color': 'C0DEED', 'profile_sidebar_fill_color': 'DDEEF6', 'profile_text_color': '333333', 'profile_use_background_image': True, 'has_extended_profile': False, 'default_profile': True, 'default_profile_image': False, 'following': False, 'follow_request_sent': False, 'notifications': False, 'translator_type': 'none'}, id=767549968643162112, id_str='767549968643162112', name='coyote bird', screen_name='CoyoteAndBird1', location='', description='', url=None, entities={'description': {'urls': []}}, protected=False, followers_count=8, friends_count=39, listed_count=0, created_at=datetime.datetime(2016, 8, 22, 2, 32, 27), favourites_count=42, utc_offset=None, time_zone=None, geo_enabled=False, verified=False, statuses_count=75, lang=None, contributors_enabled=False, is_translator=False, is_translation_enabled=False, profile_background_color='F5F8FA', profile_background_image_url=None, profile_background_image_url_https=None, profile_background_tile=False, profile_image_url='http://pbs.twimg.com/profile_images/767550586837409792/Nfd18-Es_normal.jpg', profile_image_url_https='https://pbs.twimg.com/profile_images/767550586837409792/Nfd18-Es_normal.jpg', profile_link_color='1DA1F2', profile_sidebar_border_color='C0DEED', profile_sidebar_fill_color='DDEEF6', profile_text_color='333333', profile_use_background_image=True, has_extended_profile=False, default_profile=True, default_profile_image=False, following=False, follow_request_sent=False, notifications=False, translator_type='none'), geo=None, coordinates=None, place=None, contributors=None, is_quote_status=False, retweet_count=0, favorite_count=0, favorited=False, retweeted=False, lang='en')\n",
            "screen name = CoyoteAndBird1\n",
            "message = I have coughing, sore throat, and headache @DiagnOSU\n",
            "message to watson = I have coughing, sore throat, and headache @DiagnOSU\n",
            "watson response json = {'output': {'intents': [{'intent': 'medical_symptoms_intents', 'confidence': 0.9951577663421631}], 'entities': [{'entity': 'CoronavirusSymptom', 'location': [7, 15], 'value': 'Cough', 'confidence': 0.7}, {'entity': 'CoronavirusSymptom', 'location': [17, 28], 'value': 'Sore throat', 'confidence': 1}, {'entity': 'CoronavirusSymptom', 'location': [34, 42], 'value': 'Headache', 'confidence': 1}], 'generic': []}}\n",
            "message to watson = I\n",
            "watson response json = {'output': {'intents': [], 'entities': [], 'generic': []}}\n",
            "message to watson = I have\n",
            "watson response json = {'output': {'intents': [{'intent': 'medical_symptoms_intents', 'confidence': 0.7494898796081544}], 'entities': [], 'generic': []}}\n",
            "message to watson = I have coughing,\n",
            "watson response json = {'output': {'intents': [{'intent': 'medical_symptoms_intents', 'confidence': 0.95993971824646}], 'entities': [{'entity': 'CoronavirusSymptom', 'location': [7, 15], 'value': 'Cough', 'confidence': 0.7}], 'generic': []}}\n",
            "message to watson = sore\n",
            "watson response json = {'output': {'intents': [{'intent': 'medical_symptoms_intents', 'confidence': 0.9717846870422364}], 'entities': [], 'generic': []}}\n",
            "message to watson = sore throat,\n",
            "watson response json = {'output': {'intents': [{'intent': 'medical_symptoms_intents', 'confidence': 1}], 'entities': [{'entity': 'CoronavirusSymptom', 'location': [0, 11], 'value': 'Sore throat', 'confidence': 1}], 'generic': []}}\n",
            "message to watson = and\n",
            "watson response json = {'output': {'intents': [], 'entities': [], 'generic': []}}\n",
            "message to watson = and headache\n",
            "watson response json = {'output': {'intents': [{'intent': 'medical_symptoms_intents', 'confidence': 0.9328521251678468}], 'entities': [{'entity': 'CoronavirusSymptom', 'location': [4, 12], 'value': 'Headache', 'confidence': 1}], 'generic': []}}\n",
            "message to watson = @DiagnOSU\n",
            "watson response json = {'output': {'intents': [], 'entities': [], 'generic': []}}\n",
            "watson resp = Hello @CoyoteAndBird1,It seems like you may have contracted COVID-19. Though we can't say for sure, it is very important to be cautious and to distance from friends and family. Please get a test as soon as possible.\n",
            "status = Status(_api=<tweepy.api.API object at 0x7f840ad0dac8>, _json={'created_at': 'Thu Dec 03 22:50:58 +0000 2020', 'id': 1334631241069568000, 'id_str': '1334631241069568000', 'text': \"@DiagnOSU I can't smell anything\", 'truncated': False, 'entities': {'hashtags': [], 'symbols': [], 'user_mentions': [{'screen_name': 'DiagnOSU', 'name': 'Diagnosu Team', 'id': 1328837627898900482, 'id_str': '1328837627898900482', 'indices': [0, 9]}], 'urls': []}, 'metadata': {'iso_language_code': 'en', 'result_type': 'recent'}, 'source': '<a href=\"http://twitter.com/download/iphone\" rel=\"nofollow\">Twitter for iPhone</a>', 'in_reply_to_status_id': None, 'in_reply_to_status_id_str': None, 'in_reply_to_user_id': 1328837627898900482, 'in_reply_to_user_id_str': '1328837627898900482', 'in_reply_to_screen_name': 'DiagnOSU', 'user': {'id': 448629667, 'id_str': '448629667', 'name': 'Anna', 'screen_name': 'annaeamrhein', 'location': 'The Ohio State University', 'description': '', 'url': None, 'entities': {'description': {'urls': []}}, 'protected': False, 'followers_count': 317, 'friends_count': 358, 'listed_count': 0, 'created_at': 'Wed Dec 28 06:13:40 +0000 2011', 'favourites_count': 7650, 'utc_offset': None, 'time_zone': None, 'geo_enabled': True, 'verified': False, 'statuses_count': 710, 'lang': None, 'contributors_enabled': False, 'is_translator': False, 'is_translation_enabled': False, 'profile_background_color': '642D8B', 'profile_background_image_url': 'http://abs.twimg.com/images/themes/theme10/bg.gif', 'profile_background_image_url_https': 'https://abs.twimg.com/images/themes/theme10/bg.gif', 'profile_background_tile': True, 'profile_image_url': 'http://pbs.twimg.com/profile_images/1209938719370821634/9K-jANU1_normal.jpg', 'profile_image_url_https': 'https://pbs.twimg.com/profile_images/1209938719370821634/9K-jANU1_normal.jpg', 'profile_banner_url': 'https://pbs.twimg.com/profile_banners/448629667/1550340540', 'profile_link_color': 'FF0000', 'profile_sidebar_border_color': '65B0DA', 'profile_sidebar_fill_color': '7AC3EE', 'profile_text_color': '3D1957', 'profile_use_background_image': True, 'has_extended_profile': True, 'default_profile': False, 'default_profile_image': False, 'following': False, 'follow_request_sent': False, 'notifications': False, 'translator_type': 'none'}, 'geo': None, 'coordinates': None, 'place': None, 'contributors': None, 'is_quote_status': False, 'retweet_count': 0, 'favorite_count': 0, 'favorited': False, 'retweeted': False, 'lang': 'en'}, created_at=datetime.datetime(2020, 12, 3, 22, 50, 58), id=1334631241069568000, id_str='1334631241069568000', text=\"@DiagnOSU I can't smell anything\", truncated=False, entities={'hashtags': [], 'symbols': [], 'user_mentions': [{'screen_name': 'DiagnOSU', 'name': 'Diagnosu Team', 'id': 1328837627898900482, 'id_str': '1328837627898900482', 'indices': [0, 9]}], 'urls': []}, metadata={'iso_language_code': 'en', 'result_type': 'recent'}, source='Twitter for iPhone', source_url='http://twitter.com/download/iphone', in_reply_to_status_id=None, in_reply_to_status_id_str=None, in_reply_to_user_id=1328837627898900482, in_reply_to_user_id_str='1328837627898900482', in_reply_to_screen_name='DiagnOSU', author=User(_api=<tweepy.api.API object at 0x7f840ad0dac8>, _json={'id': 448629667, 'id_str': '448629667', 'name': 'Anna', 'screen_name': 'annaeamrhein', 'location': 'The Ohio State University', 'description': '', 'url': None, 'entities': {'description': {'urls': []}}, 'protected': False, 'followers_count': 317, 'friends_count': 358, 'listed_count': 0, 'created_at': 'Wed Dec 28 06:13:40 +0000 2011', 'favourites_count': 7650, 'utc_offset': None, 'time_zone': None, 'geo_enabled': True, 'verified': False, 'statuses_count': 710, 'lang': None, 'contributors_enabled': False, 'is_translator': False, 'is_translation_enabled': False, 'profile_background_color': '642D8B', 'profile_background_image_url': 'http://abs.twimg.com/images/themes/theme10/bg.gif', 'profile_background_image_url_https': 'https://abs.twimg.com/images/themes/theme10/bg.gif', 'profile_background_tile': True, 'profile_image_url': 'http://pbs.twimg.com/profile_images/1209938719370821634/9K-jANU1_normal.jpg', 'profile_image_url_https': 'https://pbs.twimg.com/profile_images/1209938719370821634/9K-jANU1_normal.jpg', 'profile_banner_url': 'https://pbs.twimg.com/profile_banners/448629667/1550340540', 'profile_link_color': 'FF0000', 'profile_sidebar_border_color': '65B0DA', 'profile_sidebar_fill_color': '7AC3EE', 'profile_text_color': '3D1957', 'profile_use_background_image': True, 'has_extended_profile': True, 'default_profile': False, 'default_profile_image': False, 'following': False, 'follow_request_sent': False, 'notifications': False, 'translator_type': 'none'}, id=448629667, id_str='448629667', name='Anna', screen_name='annaeamrhein', location='The Ohio State University', description='', url=None, entities={'description': {'urls': []}}, protected=False, followers_count=317, friends_count=358, listed_count=0, created_at=datetime.datetime(2011, 12, 28, 6, 13, 40), favourites_count=7650, utc_offset=None, time_zone=None, geo_enabled=True, verified=False, statuses_count=710, lang=None, contributors_enabled=False, is_translator=False, is_translation_enabled=False, profile_background_color='642D8B', profile_background_image_url='http://abs.twimg.com/images/themes/theme10/bg.gif', profile_background_image_url_https='https://abs.twimg.com/images/themes/theme10/bg.gif', profile_background_tile=True, profile_image_url='http://pbs.twimg.com/profile_images/1209938719370821634/9K-jANU1_normal.jpg', profile_image_url_https='https://pbs.twimg.com/profile_images/1209938719370821634/9K-jANU1_normal.jpg', profile_banner_url='https://pbs.twimg.com/profile_banners/448629667/1550340540', profile_link_color='FF0000', profile_sidebar_border_color='65B0DA', profile_sidebar_fill_color='7AC3EE', profile_text_color='3D1957', profile_use_background_image=True, has_extended_profile=True, default_profile=False, default_profile_image=False, following=False, follow_request_sent=False, notifications=False, translator_type='none'), user=User(_api=<tweepy.api.API object at 0x7f840ad0dac8>, _json={'id': 448629667, 'id_str': '448629667', 'name': 'Anna', 'screen_name': 'annaeamrhein', 'location': 'The Ohio State University', 'description': '', 'url': None, 'entities': {'description': {'urls': []}}, 'protected': False, 'followers_count': 317, 'friends_count': 358, 'listed_count': 0, 'created_at': 'Wed Dec 28 06:13:40 +0000 2011', 'favourites_count': 7650, 'utc_offset': None, 'time_zone': None, 'geo_enabled': True, 'verified': False, 'statuses_count': 710, 'lang': None, 'contributors_enabled': False, 'is_translator': False, 'is_translation_enabled': False, 'profile_background_color': '642D8B', 'profile_background_image_url': 'http://abs.twimg.com/images/themes/theme10/bg.gif', 'profile_background_image_url_https': 'https://abs.twimg.com/images/themes/theme10/bg.gif', 'profile_background_tile': True, 'profile_image_url': 'http://pbs.twimg.com/profile_images/1209938719370821634/9K-jANU1_normal.jpg', 'profile_image_url_https': 'https://pbs.twimg.com/profile_images/1209938719370821634/9K-jANU1_normal.jpg', 'profile_banner_url': 'https://pbs.twimg.com/profile_banners/448629667/1550340540', 'profile_link_color': 'FF0000', 'profile_sidebar_border_color': '65B0DA', 'profile_sidebar_fill_color': '7AC3EE', 'profile_text_color': '3D1957', 'profile_use_background_image': True, 'has_extended_profile': True, 'default_profile': False, 'default_profile_image': False, 'following': False, 'follow_request_sent': False, 'notifications': False, 'translator_type': 'none'}, id=448629667, id_str='448629667', name='Anna', screen_name='annaeamrhein', location='The Ohio State University', description='', url=None, entities={'description': {'urls': []}}, protected=False, followers_count=317, friends_count=358, listed_count=0, created_at=datetime.datetime(2011, 12, 28, 6, 13, 40), favourites_count=7650, utc_offset=None, time_zone=None, geo_enabled=True, verified=False, statuses_count=710, lang=None, contributors_enabled=False, is_translator=False, is_translation_enabled=False, profile_background_color='642D8B', profile_background_image_url='http://abs.twimg.com/images/themes/theme10/bg.gif', profile_background_image_url_https='https://abs.twimg.com/images/themes/theme10/bg.gif', profile_background_tile=True, profile_image_url='http://pbs.twimg.com/profile_images/1209938719370821634/9K-jANU1_normal.jpg', profile_image_url_https='https://pbs.twimg.com/profile_images/1209938719370821634/9K-jANU1_normal.jpg', profile_banner_url='https://pbs.twimg.com/profile_banners/448629667/1550340540', profile_link_color='FF0000', profile_sidebar_border_color='65B0DA', profile_sidebar_fill_color='7AC3EE', profile_text_color='3D1957', profile_use_background_image=True, has_extended_profile=True, default_profile=False, default_profile_image=False, following=False, follow_request_sent=False, notifications=False, translator_type='none'), geo=None, coordinates=None, place=None, contributors=None, is_quote_status=False, retweet_count=0, favorite_count=0, favorited=False, retweeted=False, lang='en')\n",
            "screen name = annaeamrhein\n",
            "message = @DiagnOSU I can't smell anything\n",
            "message to watson = @DiagnOSU I can't smell anything\n",
            "watson response json = {'output': {'intents': [{'intent': 'medical_symptoms_intents', 'confidence': 0.7343043804168701}], 'entities': [{'entity': 'CoronavirusSymptom', 'location': [12, 32], 'value': 'loss of smell', 'confidence': 1}], 'generic': [{'response_type': 'suggestion', 'title': 'Did you mean:', 'suggestions': [{'label': 'Irrelevant Input', 'value': {'input': {'suggestion_id': 'd:0a5de15f-ac46-48aa-8776-c5327fe72a75', 'text': \"@DiagnOSU I can't smell anything\", 'intents': [{'intent': 'no_medical_symptoms', 'confidence': 0.5258892774581909}], 'entities': [{'entity': 'CoronavirusSymptom', 'location': [12, 32], 'value': 'loss of smell', 'confidence': 1}]}}, 'output': {'generic': []}, 'source_dialog_node': 'root', 'dialog_node': 'node_1_1606873093178', 'internal': {'propensity': 0.991628749389701}}, {'label': 'COVID-19 symptoms', 'value': {'input': {'suggestion_id': 'd:89b35764-9d19-4c19-973e-e9498b1ca5a6', 'text': \"@DiagnOSU I can't smell anything\", 'intents': [{'intent': 'medical_symptoms_intents', 'confidence': 0.7343043804168701}], 'entities': [{'entity': 'CoronavirusSymptom', 'location': [12, 32], 'value': 'loss of smell', 'confidence': 1}]}}, 'output': {'generic': []}, 'source_dialog_node': 'root', 'dialog_node': 'node_4_1602729865071', 'internal': {'propensity': 0.9995235009116211}}, {'label': 'None of the above', 'value': {'input': {'suggestion_id': 'd:98590a32-24f7-4fed-9568-145e0d915242', 'text': \"@DiagnOSU I can't smell anything\", 'intents': [], 'entities': [{'entity': 'CoronavirusSymptom', 'location': [12, 32], 'value': 'loss of smell', 'confidence': 1}]}}, 'output': {'generic': []}, 'source_dialog_node': 'root', 'internal': {'propensity': 1}}]}]}}\n",
            "message to watson = @DiagnOSU\n",
            "watson response json = {'output': {'intents': [], 'entities': [], 'generic': []}}\n",
            "message to watson = @DiagnOSU I\n",
            "watson response json = {'output': {'intents': [], 'entities': [], 'generic': []}}\n",
            "message to watson = @DiagnOSU I can't\n",
            "watson response json = {'output': {'intents': [{'intent': 'no_medical_symptoms', 'confidence': 0.7396477699279786}], 'entities': [], 'generic': []}}\n",
            "message to watson = @DiagnOSU I can't smell\n",
            "watson response json = {'output': {'intents': [{'intent': 'medical_symptoms_intents', 'confidence': 0.8104068279266359}], 'entities': [{'entity': 'CoronavirusSymptom', 'location': [12, 23], 'value': 'loss of smell', 'confidence': 1}], 'generic': []}}\n",
            "message to watson = anything\n",
            "watson response json = {'output': {'intents': [{'intent': 'medical_symptoms_intents', 'confidence': 0.2508516289613709}], 'entities': [], 'generic': [{'response_type': 'suggestion', 'title': 'Did you mean:', 'suggestions': [{'label': 'Non COVID-19 symptoms', 'value': {'input': {'suggestion_id': 'd:007daee0-0ca1-446e-9177-ead19347509c', 'text': 'anything', 'intents': [{'intent': 'medical_symptoms_intents', 'confidence': 0.2508516289613709}], 'entities': []}}, 'output': {'generic': []}, 'source_dialog_node': 'root', 'dialog_node': 'node_1_1602729744547', 'internal': {'propensity': 1}}, {'label': 'Irrelevant Input', 'value': {'input': {'suggestion_id': 'd:5d839f6c-8d1c-4535-9a00-6d1257e25f53', 'text': 'anything', 'intents': [], 'entities': []}}, 'output': {'generic': []}, 'source_dialog_node': 'root', 'dialog_node': 'node_1_1606873093178', 'internal': {'propensity': 1.0000000000000002}}, {'label': 'None of the above', 'value': {'input': {'suggestion_id': 'd:bbbbd874-c310-4d46-826f-0165a2bf840a', 'text': 'anything', 'intents': [], 'entities': []}}, 'output': {'generic': []}, 'source_dialog_node': 'root', 'internal': {'propensity': 1}}]}]}}\n",
            "watson resp = Hello @annaeamrhein,We see some signs in your tweet that you may have COVID-19. Even with minor symptoms, it is important to wear a mask and limit your contact with others, and get a test as soon as possible.\n",
            "status = Status(_api=<tweepy.api.API object at 0x7f840ad0dac8>, _json={'created_at': 'Thu Dec 03 21:16:55 +0000 2020', 'id': 1334607571781611520, 'id_str': '1334607571781611520', 'text': \"@DiagnOSU I'm bleeding out.... aaaaa...\", 'truncated': False, 'entities': {'hashtags': [], 'symbols': [], 'user_mentions': [{'screen_name': 'DiagnOSU', 'name': 'Diagnosu Team', 'id': 1328837627898900482, 'id_str': '1328837627898900482', 'indices': [0, 9]}], 'urls': []}, 'metadata': {'iso_language_code': 'en', 'result_type': 'recent'}, 'source': '<a href=\"https://mobile.twitter.com\" rel=\"nofollow\">Twitter Web App</a>', 'in_reply_to_status_id': None, 'in_reply_to_status_id_str': None, 'in_reply_to_user_id': 1328837627898900482, 'in_reply_to_user_id_str': '1328837627898900482', 'in_reply_to_screen_name': 'DiagnOSU', 'user': {'id': 1296888182429163521, 'id_str': '1296888182429163521', 'name': 'Trevor Warthman', 'screen_name': 'buffPath3000', 'location': '', 'description': '', 'url': None, 'entities': {'description': {'urls': []}}, 'protected': False, 'followers_count': 6, 'friends_count': 9, 'listed_count': 0, 'created_at': 'Fri Aug 21 19:13:55 +0000 2020', 'favourites_count': 84, 'utc_offset': None, 'time_zone': None, 'geo_enabled': False, 'verified': False, 'statuses_count': 13, 'lang': None, 'contributors_enabled': False, 'is_translator': False, 'is_translation_enabled': False, 'profile_background_color': 'F5F8FA', 'profile_background_image_url': None, 'profile_background_image_url_https': None, 'profile_background_tile': False, 'profile_image_url': 'http://pbs.twimg.com/profile_images/1298021919523065857/wP050NbR_normal.jpg', 'profile_image_url_https': 'https://pbs.twimg.com/profile_images/1298021919523065857/wP050NbR_normal.jpg', 'profile_link_color': '1DA1F2', 'profile_sidebar_border_color': 'C0DEED', 'profile_sidebar_fill_color': 'DDEEF6', 'profile_text_color': '333333', 'profile_use_background_image': True, 'has_extended_profile': True, 'default_profile': True, 'default_profile_image': False, 'following': False, 'follow_request_sent': True, 'notifications': False, 'translator_type': 'none'}, 'geo': None, 'coordinates': None, 'place': None, 'contributors': None, 'is_quote_status': False, 'retweet_count': 0, 'favorite_count': 0, 'favorited': False, 'retweeted': False, 'lang': 'en'}, created_at=datetime.datetime(2020, 12, 3, 21, 16, 55), id=1334607571781611520, id_str='1334607571781611520', text=\"@DiagnOSU I'm bleeding out.... aaaaa...\", truncated=False, entities={'hashtags': [], 'symbols': [], 'user_mentions': [{'screen_name': 'DiagnOSU', 'name': 'Diagnosu Team', 'id': 1328837627898900482, 'id_str': '1328837627898900482', 'indices': [0, 9]}], 'urls': []}, metadata={'iso_language_code': 'en', 'result_type': 'recent'}, source='Twitter Web App', source_url='https://mobile.twitter.com', in_reply_to_status_id=None, in_reply_to_status_id_str=None, in_reply_to_user_id=1328837627898900482, in_reply_to_user_id_str='1328837627898900482', in_reply_to_screen_name='DiagnOSU', author=User(_api=<tweepy.api.API object at 0x7f840ad0dac8>, _json={'id': 1296888182429163521, 'id_str': '1296888182429163521', 'name': 'Trevor Warthman', 'screen_name': 'buffPath3000', 'location': '', 'description': '', 'url': None, 'entities': {'description': {'urls': []}}, 'protected': False, 'followers_count': 6, 'friends_count': 9, 'listed_count': 0, 'created_at': 'Fri Aug 21 19:13:55 +0000 2020', 'favourites_count': 84, 'utc_offset': None, 'time_zone': None, 'geo_enabled': False, 'verified': False, 'statuses_count': 13, 'lang': None, 'contributors_enabled': False, 'is_translator': False, 'is_translation_enabled': False, 'profile_background_color': 'F5F8FA', 'profile_background_image_url': None, 'profile_background_image_url_https': None, 'profile_background_tile': False, 'profile_image_url': 'http://pbs.twimg.com/profile_images/1298021919523065857/wP050NbR_normal.jpg', 'profile_image_url_https': 'https://pbs.twimg.com/profile_images/1298021919523065857/wP050NbR_normal.jpg', 'profile_link_color': '1DA1F2', 'profile_sidebar_border_color': 'C0DEED', 'profile_sidebar_fill_color': 'DDEEF6', 'profile_text_color': '333333', 'profile_use_background_image': True, 'has_extended_profile': True, 'default_profile': True, 'default_profile_image': False, 'following': False, 'follow_request_sent': True, 'notifications': False, 'translator_type': 'none'}, id=1296888182429163521, id_str='1296888182429163521', name='Trevor Warthman', screen_name='buffPath3000', location='', description='', url=None, entities={'description': {'urls': []}}, protected=False, followers_count=6, friends_count=9, listed_count=0, created_at=datetime.datetime(2020, 8, 21, 19, 13, 55), favourites_count=84, utc_offset=None, time_zone=None, geo_enabled=False, verified=False, statuses_count=13, lang=None, contributors_enabled=False, is_translator=False, is_translation_enabled=False, profile_background_color='F5F8FA', profile_background_image_url=None, profile_background_image_url_https=None, profile_background_tile=False, profile_image_url='http://pbs.twimg.com/profile_images/1298021919523065857/wP050NbR_normal.jpg', profile_image_url_https='https://pbs.twimg.com/profile_images/1298021919523065857/wP050NbR_normal.jpg', profile_link_color='1DA1F2', profile_sidebar_border_color='C0DEED', profile_sidebar_fill_color='DDEEF6', profile_text_color='333333', profile_use_background_image=True, has_extended_profile=True, default_profile=True, default_profile_image=False, following=False, follow_request_sent=True, notifications=False, translator_type='none'), user=User(_api=<tweepy.api.API object at 0x7f840ad0dac8>, _json={'id': 1296888182429163521, 'id_str': '1296888182429163521', 'name': 'Trevor Warthman', 'screen_name': 'buffPath3000', 'location': '', 'description': '', 'url': None, 'entities': {'description': {'urls': []}}, 'protected': False, 'followers_count': 6, 'friends_count': 9, 'listed_count': 0, 'created_at': 'Fri Aug 21 19:13:55 +0000 2020', 'favourites_count': 84, 'utc_offset': None, 'time_zone': None, 'geo_enabled': False, 'verified': False, 'statuses_count': 13, 'lang': None, 'contributors_enabled': False, 'is_translator': False, 'is_translation_enabled': False, 'profile_background_color': 'F5F8FA', 'profile_background_image_url': None, 'profile_background_image_url_https': None, 'profile_background_tile': False, 'profile_image_url': 'http://pbs.twimg.com/profile_images/1298021919523065857/wP050NbR_normal.jpg', 'profile_image_url_https': 'https://pbs.twimg.com/profile_images/1298021919523065857/wP050NbR_normal.jpg', 'profile_link_color': '1DA1F2', 'profile_sidebar_border_color': 'C0DEED', 'profile_sidebar_fill_color': 'DDEEF6', 'profile_text_color': '333333', 'profile_use_background_image': True, 'has_extended_profile': True, 'default_profile': True, 'default_profile_image': False, 'following': False, 'follow_request_sent': True, 'notifications': False, 'translator_type': 'none'}, id=1296888182429163521, id_str='1296888182429163521', name='Trevor Warthman', screen_name='buffPath3000', location='', description='', url=None, entities={'description': {'urls': []}}, protected=False, followers_count=6, friends_count=9, listed_count=0, created_at=datetime.datetime(2020, 8, 21, 19, 13, 55), favourites_count=84, utc_offset=None, time_zone=None, geo_enabled=False, verified=False, statuses_count=13, lang=None, contributors_enabled=False, is_translator=False, is_translation_enabled=False, profile_background_color='F5F8FA', profile_background_image_url=None, profile_background_image_url_https=None, profile_background_tile=False, profile_image_url='http://pbs.twimg.com/profile_images/1298021919523065857/wP050NbR_normal.jpg', profile_image_url_https='https://pbs.twimg.com/profile_images/1298021919523065857/wP050NbR_normal.jpg', profile_link_color='1DA1F2', profile_sidebar_border_color='C0DEED', profile_sidebar_fill_color='DDEEF6', profile_text_color='333333', profile_use_background_image=True, has_extended_profile=True, default_profile=True, default_profile_image=False, following=False, follow_request_sent=True, notifications=False, translator_type='none'), geo=None, coordinates=None, place=None, contributors=None, is_quote_status=False, retweet_count=0, favorite_count=0, favorited=False, retweeted=False, lang='en')\n",
            "screen name = buffPath3000\n",
            "message = @DiagnOSU I'm bleeding out.... aaaaa...\n",
            "message to watson = @DiagnOSU I'm bleeding out.... aaaaa...\n",
            "watson response json = {'output': {'intents': [{'intent': 'medical_symptoms_intents', 'confidence': 0.9303170680999757}], 'entities': [{'entity': 'healthEmergancy', 'location': [14, 26], 'value': 'profuse bleeding', 'confidence': 1}], 'generic': [{'response_type': 'text', 'text': 'Stop this test immediately and call 9-1-1, you are having a medical emergency.'}], 'spelling': {'text': \"@DiagnOSU I'm bleeding out.... avaya...\", 'original_text': \"@DiagnOSU I'm bleeding out.... aaaaa...\"}}}\n",
            "message to watson = @DiagnOSU\n",
            "watson response json = {'output': {'intents': [], 'entities': [], 'generic': []}}\n",
            "message to watson = @DiagnOSU I'm\n",
            "watson response json = {'output': {'intents': [{'intent': 'medical_symptoms_intents', 'confidence': 0.6410070419311524}], 'entities': [], 'generic': [{'response_type': 'suggestion', 'title': 'Did you mean:', 'suggestions': [{'label': 'Non COVID-19 symptoms', 'value': {'input': {'suggestion_id': 'd:3e18ac8d-a939-4ed4-bc4e-a953d61dc928', 'text': \"@DiagnOSU I'm\", 'intents': [{'intent': 'medical_symptoms_intents', 'confidence': 0.6410070419311524}], 'entities': []}}, 'output': {'generic': []}, 'source_dialog_node': 'root', 'dialog_node': 'node_1_1602729744547', 'internal': {'propensity': 0.9993713345272139}}, {'label': 'Ending', 'value': {'input': {'suggestion_id': 'd:81d9d354-1f97-498c-a610-6b1e4f11a73a', 'text': \"@DiagnOSU I'm\", 'intents': [{'intent': 'EndOfStream', 'confidence': 0.3659396290779114}], 'entities': []}}, 'output': {'generic': []}, 'source_dialog_node': 'root', 'dialog_node': 'node_4_1600810824990', 'internal': {'propensity': 0.30419445089605274}}, {'label': 'Irrelevant Input', 'value': {'input': {'suggestion_id': 'd:63d4867c-2ea4-410e-8edf-e0ea6c55d13a', 'text': \"@DiagnOSU I'm\", 'intents': [{'intent': 'no_medical_symptoms', 'confidence': 0.3062736988067627}], 'entities': []}}, 'output': {'generic': []}, 'source_dialog_node': 'root', 'dialog_node': 'node_1_1606873093178', 'internal': {'propensity': 0.20579218443766145}}, {'label': 'None of the above', 'value': {'input': {'suggestion_id': 'd:aa6914c0-fb1b-49f5-9681-acf2fc783995', 'text': \"@DiagnOSU I'm\", 'intents': [], 'entities': []}}, 'output': {'generic': []}, 'source_dialog_node': 'root', 'internal': {'propensity': 1}}]}]}}\n",
            "message to watson = @DiagnOSU I'm bleeding\n",
            "watson response json = {'output': {'intents': [{'intent': 'medical_symptoms_intents', 'confidence': 0.9657354354858398}], 'entities': [{'entity': 'healthEmergancy', 'location': [14, 22], 'value': 'profuse bleeding', 'confidence': 0.53}], 'generic': [{'response_type': 'text', 'text': 'Stop this test immediately and call 9-1-1, you are having a medical emergency.'}]}}\n",
            "message to watson = out....\n",
            "watson response json = {'output': {'intents': [], 'entities': [], 'generic': []}}\n",
            "message to watson = out.... aaaaa...\n",
            "watson response json = {'output': {'intents': [], 'entities': [], 'generic': [], 'spelling': {'text': 'out.... avaya...', 'original_text': 'out.... aaaaa...'}}}\n",
            "watson resp = Hello @buffPath3000,We don't see any evidence that you have contracted COVID-19 from your tweet! Even so, it is very common to be an asymptomatic carrier, so it is still important to wear a mask and social distance.\n"
          ],
          "name": "stdout"
        },
        {
          "output_type": "error",
          "ename": "TweepError",
          "evalue": "ignored",
          "traceback": [
            "\u001b[0;31m---------------------------------------------------------------------------\u001b[0m",
            "\u001b[0;31mTweepError\u001b[0m                                Traceback (most recent call last)",
            "\u001b[0;32m<ipython-input-8-238eaed853d5>\u001b[0m in \u001b[0;36m<module>\u001b[0;34m()\u001b[0m\n\u001b[1;32m     13\u001b[0m     \u001b[0mprint\u001b[0m\u001b[0;34m(\u001b[0m\u001b[0;34m'watson resp = {}'\u001b[0m\u001b[0;34m.\u001b[0m\u001b[0mformat\u001b[0m\u001b[0;34m(\u001b[0m\u001b[0mwatson_response\u001b[0m\u001b[0;34m)\u001b[0m\u001b[0;34m)\u001b[0m\u001b[0;34m\u001b[0m\u001b[0;34m\u001b[0m\u001b[0m\n\u001b[1;32m     14\u001b[0m     \u001b[0;31m#m = WatsonAnalyze(sn, ogmsg)\u001b[0m\u001b[0;34m\u001b[0m\u001b[0;34m\u001b[0m\u001b[0;34m\u001b[0m\u001b[0m\n\u001b[0;32m---> 15\u001b[0;31m     \u001b[0mstatus\u001b[0m \u001b[0;34m=\u001b[0m \u001b[0mapi\u001b[0m\u001b[0;34m.\u001b[0m\u001b[0mupdate_status\u001b[0m\u001b[0;34m(\u001b[0m\u001b[0mwatson_response\u001b[0m\u001b[0;34m,\u001b[0m \u001b[0min_reply_to_status_id\u001b[0m\u001b[0;34m=\u001b[0m\u001b[0mstatus\u001b[0m\u001b[0;34m.\u001b[0m\u001b[0mid\u001b[0m\u001b[0;34m)\u001b[0m\u001b[0;34m\u001b[0m\u001b[0;34m\u001b[0m\u001b[0m\n\u001b[0m",
            "\u001b[0;32m/usr/local/lib/python3.6/dist-packages/tweepy/api.py\u001b[0m in \u001b[0;36mupdate_status\u001b[0;34m(self, *args, **kwargs)\u001b[0m\n\u001b[1;32m    192\u001b[0m             \u001b[0mallowed_param\u001b[0m\u001b[0;34m=\u001b[0m\u001b[0;34m[\u001b[0m\u001b[0;34m'status'\u001b[0m\u001b[0;34m,\u001b[0m \u001b[0;34m'in_reply_to_status_id'\u001b[0m\u001b[0;34m,\u001b[0m \u001b[0;34m'in_reply_to_status_id_str'\u001b[0m\u001b[0;34m,\u001b[0m \u001b[0;34m'auto_populate_reply_metadata'\u001b[0m\u001b[0;34m,\u001b[0m \u001b[0;34m'lat'\u001b[0m\u001b[0;34m,\u001b[0m \u001b[0;34m'long'\u001b[0m\u001b[0;34m,\u001b[0m \u001b[0;34m'source'\u001b[0m\u001b[0;34m,\u001b[0m \u001b[0;34m'place_id'\u001b[0m\u001b[0;34m,\u001b[0m \u001b[0;34m'display_coordinates'\u001b[0m\u001b[0;34m]\u001b[0m\u001b[0;34m,\u001b[0m\u001b[0;34m\u001b[0m\u001b[0;34m\u001b[0m\u001b[0m\n\u001b[1;32m    193\u001b[0m             \u001b[0mrequire_auth\u001b[0m\u001b[0;34m=\u001b[0m\u001b[0;32mTrue\u001b[0m\u001b[0;34m\u001b[0m\u001b[0;34m\u001b[0m\u001b[0m\n\u001b[0;32m--> 194\u001b[0;31m         )(post_data=post_data, *args, **kwargs)\n\u001b[0m\u001b[1;32m    195\u001b[0m \u001b[0;34m\u001b[0m\u001b[0m\n\u001b[1;32m    196\u001b[0m     \u001b[0;32mdef\u001b[0m \u001b[0mmedia_upload\u001b[0m\u001b[0;34m(\u001b[0m\u001b[0mself\u001b[0m\u001b[0;34m,\u001b[0m \u001b[0mfilename\u001b[0m\u001b[0;34m,\u001b[0m \u001b[0;34m*\u001b[0m\u001b[0margs\u001b[0m\u001b[0;34m,\u001b[0m \u001b[0;34m**\u001b[0m\u001b[0mkwargs\u001b[0m\u001b[0;34m)\u001b[0m\u001b[0;34m:\u001b[0m\u001b[0;34m\u001b[0m\u001b[0;34m\u001b[0m\u001b[0m\n",
            "\u001b[0;32m/usr/local/lib/python3.6/dist-packages/tweepy/binder.py\u001b[0m in \u001b[0;36m_call\u001b[0;34m(*args, **kwargs)\u001b[0m\n\u001b[1;32m    248\u001b[0m             \u001b[0;32mreturn\u001b[0m \u001b[0mmethod\u001b[0m\u001b[0;34m\u001b[0m\u001b[0;34m\u001b[0m\u001b[0m\n\u001b[1;32m    249\u001b[0m         \u001b[0;32melse\u001b[0m\u001b[0;34m:\u001b[0m\u001b[0;34m\u001b[0m\u001b[0;34m\u001b[0m\u001b[0m\n\u001b[0;32m--> 250\u001b[0;31m             \u001b[0;32mreturn\u001b[0m \u001b[0mmethod\u001b[0m\u001b[0;34m.\u001b[0m\u001b[0mexecute\u001b[0m\u001b[0;34m(\u001b[0m\u001b[0;34m)\u001b[0m\u001b[0;34m\u001b[0m\u001b[0;34m\u001b[0m\u001b[0m\n\u001b[0m\u001b[1;32m    251\u001b[0m \u001b[0;34m\u001b[0m\u001b[0m\n\u001b[1;32m    252\u001b[0m     \u001b[0;31m# Set pagination mode\u001b[0m\u001b[0;34m\u001b[0m\u001b[0;34m\u001b[0m\u001b[0;34m\u001b[0m\u001b[0m\n",
            "\u001b[0;32m/usr/local/lib/python3.6/dist-packages/tweepy/binder.py\u001b[0m in \u001b[0;36mexecute\u001b[0;34m(self)\u001b[0m\n\u001b[1;32m    232\u001b[0m                     \u001b[0;32mraise\u001b[0m \u001b[0mRateLimitError\u001b[0m\u001b[0;34m(\u001b[0m\u001b[0merror_msg\u001b[0m\u001b[0;34m,\u001b[0m \u001b[0mresp\u001b[0m\u001b[0;34m)\u001b[0m\u001b[0;34m\u001b[0m\u001b[0;34m\u001b[0m\u001b[0m\n\u001b[1;32m    233\u001b[0m                 \u001b[0;32melse\u001b[0m\u001b[0;34m:\u001b[0m\u001b[0;34m\u001b[0m\u001b[0;34m\u001b[0m\u001b[0m\n\u001b[0;32m--> 234\u001b[0;31m                     \u001b[0;32mraise\u001b[0m \u001b[0mTweepError\u001b[0m\u001b[0;34m(\u001b[0m\u001b[0merror_msg\u001b[0m\u001b[0;34m,\u001b[0m \u001b[0mresp\u001b[0m\u001b[0;34m,\u001b[0m \u001b[0mapi_code\u001b[0m\u001b[0;34m=\u001b[0m\u001b[0mapi_error_code\u001b[0m\u001b[0;34m)\u001b[0m\u001b[0;34m\u001b[0m\u001b[0;34m\u001b[0m\u001b[0m\n\u001b[0m\u001b[1;32m    235\u001b[0m \u001b[0;34m\u001b[0m\u001b[0m\n\u001b[1;32m    236\u001b[0m             \u001b[0;31m# Parse the response payload\u001b[0m\u001b[0;34m\u001b[0m\u001b[0;34m\u001b[0m\u001b[0;34m\u001b[0m\u001b[0m\n",
            "\u001b[0;31mTweepError\u001b[0m: [{'code': 187, 'message': 'Status is a duplicate.'}]"
          ]
        }
      ]
    },
    {
      "cell_type": "markdown",
      "metadata": {
        "id": "Pv5XdLHnkKwF"
      },
      "source": [
        ""
      ]
    }
  ]
}